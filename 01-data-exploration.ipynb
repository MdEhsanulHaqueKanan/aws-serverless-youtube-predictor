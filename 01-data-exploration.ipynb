{
 "cells": [
  {
   "cell_type": "code",
   "execution_count": 2,
   "id": "f3665c85",
   "metadata": {},
   "outputs": [
    {
     "name": "stdout",
     "output_type": "stream",
     "text": [
      "--- Dataset Info ---\n",
      "<class 'pandas.core.frame.DataFrame'>\n",
      "RangeIndex: 600 entries, 0 to 599\n",
      "Data columns (total 13 columns):\n",
      " #   Column          Non-Null Count  Dtype  \n",
      "---  ------          --------------  -----  \n",
      " 0   video_id        600 non-null    object \n",
      " 1   title           600 non-null    object \n",
      " 2   description     600 non-null    object \n",
      " 3   published_date  600 non-null    object \n",
      " 4   channel_id      600 non-null    object \n",
      " 5   channel_title   600 non-null    object \n",
      " 6   tags            600 non-null    object \n",
      " 7   category_id     600 non-null    int64  \n",
      " 8   view_count      600 non-null    float64\n",
      " 9   like_count      600 non-null    float64\n",
      " 10  comment_count   600 non-null    float64\n",
      " 11  duration        600 non-null    object \n",
      " 12  thumbnail       600 non-null    object \n",
      "dtypes: float64(3), int64(1), object(9)\n",
      "memory usage: 61.1+ KB\n",
      "\n",
      "--- First 5 Rows of the Dataset ---\n",
      "      video_id                                              title  \\\n",
      "0  gsJAlLOFBv0                      TINY Tech That Actually Works   \n",
      "1  ypicIkaiViM  AI & future of workforce: Andrew Yang on how t...   \n",
      "2  1Nef8LPO-jo       5 ILLEGAL gadgets that will get you ARRESTED   \n",
      "3  lCHqmzynO-s                      Overrated vs. Underrated Tech   \n",
      "4  7uFrtqSwYzM  APPLE Glass Revolutionizes AR Experience Forever!   \n",
      "\n",
      "                                         description        published_date  \\\n",
      "0                           No description available  2025-05-02T17:37:10Z   \n",
      "1  Andrew Yang, Forward Party co-chair and former...  2025-06-18T12:39:53Z   \n",
      "2  #shorts #technology \\n\\nI spend a LOT of time ...  2022-11-01T11:00:06Z   \n",
      "3  💬 Join my Discord server: https://discord.gg/g...  2024-07-08T18:04:31Z   \n",
      "4  Discover the revolutionary world of augmented ...  2024-12-22T16:49:00Z   \n",
      "\n",
      "                 channel_id    channel_title  \\\n",
      "0  UCMiJRAwDNSNzuYeN2uWa0pA   Mrwhosetheboss   \n",
      "1  UCrp_UI8XtuYfpiqluWLD7Lw  CNBC Television   \n",
      "2  UCMiJRAwDNSNzuYeN2uWa0pA   Mrwhosetheboss   \n",
      "3  UCPk2s5c4R_d-EUUNvFFODoA       Gohar Khan   \n",
      "4  UCxqG_E-68WAE0TWYfIopv6Q          Digifix   \n",
      "\n",
      "                                                tags  category_id  view_count  \\\n",
      "0  ['tiny', 'tech', 'gadgets', 'small', 'miniature']           28   8962092.0   \n",
      "1  ['Squawk Box U.S.', 'CNBC', 'business news', '...           25    289626.0   \n",
      "2                                 ['shorts', 'tech']           28  81372201.0   \n",
      "3  ['thailand', 'surin', 'style', 'travel', 'day'...           27  21255964.0   \n",
      "4  ['apple glasses price', 'apple glasses design'...           28   2790436.0   \n",
      "\n",
      "   like_count  comment_count duration  \\\n",
      "0    243350.0          515.0    PT57S   \n",
      "1      3393.0         1240.0  PT7M50S   \n",
      "2   4178447.0         6378.0    PT47S   \n",
      "3    909386.0         2681.0    PT31S   \n",
      "4     44278.0         1359.0    PT16S   \n",
      "\n",
      "                                        thumbnail  \n",
      "0  https://i.ytimg.com/vi/gsJAlLOFBv0/default.jpg  \n",
      "1  https://i.ytimg.com/vi/ypicIkaiViM/default.jpg  \n",
      "2  https://i.ytimg.com/vi/1Nef8LPO-jo/default.jpg  \n",
      "3  https://i.ytimg.com/vi/lCHqmzynO-s/default.jpg  \n",
      "4  https://i.ytimg.com/vi/7uFrtqSwYzM/default.jpg  \n"
     ]
    }
   ],
   "source": [
    "import pandas as pd\n",
    "from sklearn.model_selection import train_test_split\n",
    "from sklearn.compose import ColumnTransformer\n",
    "from sklearn.pipeline import Pipeline\n",
    "from sklearn.preprocessing import OneHotEncoder, StandardScaler\n",
    "from sklearn.ensemble import RandomForestRegressor\n",
    "from sklearn.metrics import r2_score, mean_absolute_error, mean_squared_error\n",
    "import numpy as np\n",
    "\n",
    "# Define the path to the data file, relative to the notebook's location\n",
    "file_path = 'data/youtube_data.csv'\n",
    "\n",
    "# Load the dataset\n",
    "try:\n",
    "    df = pd.read_csv(file_path)\n",
    "\n",
    "    # --- Print Data Structure Information ---\n",
    "    print(\"--- Dataset Info ---\")\n",
    "    df.info()\n",
    "\n",
    "    # --- Print First 5 Rows ---\n",
    "    print(\"\\n--- First 5 Rows of the Dataset ---\")\n",
    "    print(df.head())\n",
    "\n",
    "except FileNotFoundError:\n",
    "    print(f\"Error: '{file_path}' not found. Please ensure the file is in the 'data' subfolder.\")"
   ]
  },
  {
   "cell_type": "code",
   "execution_count": 3,
   "id": "23ee6ac9",
   "metadata": {},
   "outputs": [
    {
     "name": "stdout",
     "output_type": "stream",
     "text": [
      "|    | video_id    | title                                                                        | description                                                                                                                                                                                                          | published_date       | channel_id               | channel_title   | tags                                                                                                                                                                                                                                                                                                                                                                                                                                 |   category_id |       view_count |       like_count |   comment_count | duration   | thumbnail                                      |\n",
      "|---:|:------------|:-----------------------------------------------------------------------------|:---------------------------------------------------------------------------------------------------------------------------------------------------------------------------------------------------------------------|:---------------------|:-------------------------|:----------------|:-------------------------------------------------------------------------------------------------------------------------------------------------------------------------------------------------------------------------------------------------------------------------------------------------------------------------------------------------------------------------------------------------------------------------------------|--------------:|-----------------:|-----------------:|----------------:|:-----------|:-----------------------------------------------|\n",
      "|  0 | gsJAlLOFBv0 | TINY Tech That Actually Works                                                | No description available                                                                                                                                                                                             | 2025-05-02T17:37:10Z | UCMiJRAwDNSNzuYeN2uWa0pA | Mrwhosetheboss  | ['tiny', 'tech', 'gadgets', 'small', 'miniature']                                                                                                                                                                                                                                                                                                                                                                                    |            28 |      8.96209e+06 | 243350           |             515 | PT57S      | https://i.ytimg.com/vi/gsJAlLOFBv0/default.jpg |\n",
      "|  1 | ypicIkaiViM | AI & future of workforce: Andrew Yang on how the technology will impact jobs | Andrew Yang, Forward Party co-chair and former Democratic presidential candidate, joins 'Squawk Box' to discuss the impact of AI on jobs, regulation around the technology,                                          | 2025-06-18T12:39:53Z | UCrp_UI8XtuYfpiqluWLD7Lw | CNBC Television | ['Squawk Box U.S.', 'CNBC', 'business news', 'finance stock', 'stock market', 'news channel', 'news station', 'breaking news', 'us news', 'world news', 'cable', 'cable news', 'finance news', 'money', 'money tips', 'financial news', 'stock market news', 'stocks']                                                                                                                                                               |            25 | 289626           |   3393           |            1240 | PT7M50S    | https://i.ytimg.com/vi/ypicIkaiViM/default.jpg |\n",
      "|  2 | 1Nef8LPO-jo | 5 ILLEGAL gadgets that will get you ARRESTED                                 | #shorts #technology                                                                                                                                                                                                  | 2022-11-01T11:00:06Z | UCMiJRAwDNSNzuYeN2uWa0pA | Mrwhosetheboss  | ['shorts', 'tech']                                                                                                                                                                                                                                                                                                                                                                                                                   |            28 |      8.13722e+07 |      4.17845e+06 |            6378 | PT47S      | https://i.ytimg.com/vi/1Nef8LPO-jo/default.jpg |\n",
      "|    |             |                                                                              |                                                                                                                                                                                                                      |                      |                          |                 |                                                                                                                                                                                                                                                                                                                                                                                                                                      |               |                  |                  |                 |            |                                                |\n",
      "|    |             |                                                                              | I spend a LOT of time trying to make my videos as concise, polished and useful as possible for you - if you would like to support me on that mission then consider subscribing to the channel - you'd make my day 😁 |                      |                          |                 |                                                                                                                                                                                                                                                                                                                                                                                                                                      |               |                  |                  |                 |            |                                                |\n",
      "|    |             |                                                                              |                                                                                                                                                                                                                      |                      |                          |                 |                                                                                                                                                                                                                                                                                                                                                                                                                                      |               |                  |                  |                 |            |                                                |\n",
      "|    |             |                                                                              | Twitter - For my tech hot takes: https://goo.gl/EFhwqL                                                                                                                                                               |                      |                          |                 |                                                                                                                                                                                                                                                                                                                                                                                                                                      |               |                  |                  |                 |            |                                                |\n",
      "|    |             |                                                                              | Instagram - For my personal posts: https://goo.gl/OUqBBa                                                                                                                                                             |                      |                          |                 |                                                                                                                                                                                                                                                                                                                                                                                                                                      |               |                  |                  |                 |            |                                                |\n",
      "|    |             |                                                                              | Facebook - Does anyone still use this anymore?: https://goo.gl/Aluzl1                                                                                                                                                |                      |                          |                 |                                                                                                                                                                                                                                                                                                                                                                                                                                      |               |                  |                  |                 |            |                                                |\n",
      "|    |             |                                                                              |                                                                                                                                                                                                                      |                      |                          |                 |                                                                                                                                                                                                                                                                                                                                                                                                                                      |               |                  |                  |                 |            |                                                |\n",
      "|    |             |                                                                              | Amazon Affiliate links (if you buy anything through these it will support the channel and allow us to buy better gear!):                                                                                             |                      |                          |                 |                                                                                                                                                                                                                                                                                                                                                                                                                                      |               |                  |                  |                 |            |                                                |\n",
      "|    |             |                                                                              | Amazon US: https://goo.gl/3yS2aP                                                                                                                                                                                     |                      |                          |                 |                                                                                                                                                                                                                                                                                                                                                                                                                                      |               |                  |                  |                 |            |                                                |\n",
      "|    |             |                                                                              | Amazon UK: https://goo.gl/gvrsGZ                                                                                                                                                                                     |                      |                          |                 |                                                                                                                                                                                                                                                                                                                                                                                                                                      |               |                  |                  |                 |            |                                                |\n",
      "|    |             |                                                                              |                                                                                                                                                                                                                      |                      |                          |                 |                                                                                                                                                                                                                                                                                                                                                                                                                                      |               |                  |                  |                 |            |                                                |\n",
      "|    |             |                                                                              | My Filming Gear:                                                                                                                                                                                                     |                      |                          |                 |                                                                                                                                                                                                                                                                                                                                                                                                                                      |               |                  |                  |                 |            |                                                |\n",
      "|    |             |                                                                              | https://bit.ly/35CuxwI                                                                                                                                                                                               |                      |                          |                 |                                                                                                                                                                                                                                                                                                                                                                                                                                      |               |                  |                  |                 |            |                                                |\n",
      "|    |             |                                                                              |                                                                                                                                                                                                                      |                      |                          |                 |                                                                                                                                                                                                                                                                                                                                                                                                                                      |               |                  |                  |                 |            |                                                |\n",
      "|    |             |                                                                              | Music is from Epidemic sound:                                                                                                                                                                                        |                      |                          |                 |                                                                                                                                                                                                                                                                                                                                                                                                                                      |               |                  |                  |                 |            |                                                |\n",
      "|    |             |                                                                              | http://share.epidemicsound.com/pHDFT                                                                                                                                                                                 |                      |                          |                 |                                                                                                                                                                                                                                                                                                                                                                                                                                      |               |                  |                  |                 |            |                                                |\n",
      "|  3 | lCHqmzynO-s | Overrated vs. Underrated Tech                                                | 💬 Join my Discord server: https://discord.gg/gohar                                                                                                                                                                  | 2024-07-08T18:04:31Z | UCPk2s5c4R_d-EUUNvFFODoA | Gohar Khan      | ['thailand', 'surin', 'style', 'travel', 'day', 'asia', 'elephant', 'bangkok', 'elephantnature', 'asian', 'animal', 'wildlife', 'chiang', 'african', 'asia', 'park', 'safari', 'big', 'travel', 'minneriya', 'thailand grass', 'art', 'green', 'ivory', 'ช้าง', 'ทองใบ', 'พลายทองใบ', 'หนุ่มเสก', 'เสก', 'หนุ่เสก', 'พลายหนุ่มเสก', 'องค์บาก', 'พลายบัวบาน', 'บัวบาน', 'ฝอยทอง', 'ดาวมงคล', 'banana']                                          |            27 |      2.1256e+07  | 909386           |            2681 | PT31S      | https://i.ytimg.com/vi/lCHqmzynO-s/default.jpg |\n",
      "|    |             |                                                                              | 📝 I'll edit your college essay: https://nextadmit.com/services/essay/                                                                                                                                               |                      |                          |                 |                                                                                                                                                                                                                                                                                                                                                                                                                                      |               |                  |                  |                 |            |                                                |\n",
      "|    |             |                                                                              | 🎓 Get into your dream school: https://nextadmit.com/roadmap/                                                                                                                                                        |                      |                          |                 |                                                                                                                                                                                                                                                                                                                                                                                                                                      |               |                  |                  |                 |            |                                                |\n",
      "|  4 | 7uFrtqSwYzM | APPLE Glass Revolutionizes AR Experience Forever!                            | Discover the revolutionary world of augmented reality with the Apple Glass! In this video, we dive into the sleek design, cutting-edge technology, and incredible features of Apple’s futuristic AR glasses.         | 2024-12-22T16:49:00Z | UCxqG_E-68WAE0TWYfIopv6Q | Digifix         | ['apple glasses price', 'apple glasses design', 'vr', 'apple glasses release date', 'apple vr', 'apple smart glasses', 'ar glasses', 'iglasses', 'apple glasses', 'virtual reality', 'apple ar glasses', 'apple glasses concept', 'apple glass price', 'augmented reality', 'apple glass review', 'apple glass', 'apple glasses leak', 'apple ar headset', 'best ar glasses', 'glasses', 'apple glass launch date', 'smart glasses'] |            28 |      2.79044e+06 |  44278           |            1359 | PT16S      | https://i.ytimg.com/vi/7uFrtqSwYzM/default.jpg |\n"
     ]
    }
   ],
   "source": [
    "print(df.head().to_markdown())"
   ]
  },
  {
   "cell_type": "code",
   "execution_count": 4,
   "id": "e3825dd1",
   "metadata": {},
   "outputs": [
    {
     "name": "stdout",
     "output_type": "stream",
     "text": [
      "--- Processed DataFrame Info ---\n",
      "<class 'pandas.core.frame.DataFrame'>\n",
      "RangeIndex: 600 entries, 0 to 599\n",
      "Data columns (total 10 columns):\n",
      " #   Column               Non-Null Count  Dtype \n",
      "---  ------               --------------  ----- \n",
      " 0   title                600 non-null    object\n",
      " 1   channel_title        600 non-null    object\n",
      " 2   category_id          600 non-null    int64 \n",
      " 3   view_count           600 non-null    int64 \n",
      " 4   like_count           600 non-null    int64 \n",
      " 5   comment_count        600 non-null    int64 \n",
      " 6   publish_day_of_week  600 non-null    int32 \n",
      " 7   publish_hour         600 non-null    int32 \n",
      " 8   duration_seconds     600 non-null    int64 \n",
      " 9   tag_count            600 non-null    int64 \n",
      "dtypes: int32(2), int64(6), object(2)\n",
      "memory usage: 42.3+ KB\n",
      "\n",
      "--- First 5 Rows of Processed DataFrame (Markdown) ---\n",
      "|    | title                                                                        | channel_title   |   category_id |   view_count |   like_count |   comment_count |   publish_day_of_week |   publish_hour |   duration_seconds |   tag_count |\n",
      "|---:|:-----------------------------------------------------------------------------|:----------------|--------------:|-------------:|-------------:|----------------:|----------------------:|---------------:|-------------------:|------------:|\n",
      "|  0 | TINY Tech That Actually Works                                                | Mrwhosetheboss  |            28 |      8962092 |       243350 |             515 |                     4 |             17 |                 57 |           5 |\n",
      "|  1 | AI & future of workforce: Andrew Yang on how the technology will impact jobs | CNBC Television |            25 |       289626 |         3393 |            1240 |                     2 |             12 |                470 |          18 |\n",
      "|  2 | 5 ILLEGAL gadgets that will get you ARRESTED                                 | Mrwhosetheboss  |            28 |     81372201 |      4178447 |            6378 |                     1 |             11 |                 47 |           2 |\n",
      "|  3 | Overrated vs. Underrated Tech                                                | Gohar Khan      |            27 |     21255964 |       909386 |            2681 |                     0 |             18 |                 31 |          37 |\n",
      "|  4 | APPLE Glass Revolutionizes AR Experience Forever!                            | Digifix         |            28 |      2790436 |        44278 |            1359 |                     6 |             16 |                 16 |          22 |\n"
     ]
    }
   ],
   "source": [
    "import pandas as pd\n",
    "import re # We'll need the regular expressions module to parse the duration\n",
    "\n",
    "def clean_and_feature_engineer(df: pd.DataFrame) -> pd.DataFrame:\n",
    "    \"\"\"\n",
    "    Cleans the raw YouTube dataset and engineers new features for modeling.\n",
    "\n",
    "    Args:\n",
    "        df: The raw DataFrame.\n",
    "\n",
    "    Returns:\n",
    "        A cleaned DataFrame with new features.\n",
    "    \"\"\"\n",
    "    # --- 1. Create a copy to avoid modifying the original DataFrame ---\n",
    "    df_clean = df.copy()\n",
    "\n",
    "    # --- 2. Drop unnecessary columns ---\n",
    "    # These are identifiers and URLs not useful for a general popularity model.\n",
    "    columns_to_drop = ['video_id', 'channel_id', 'description', 'thumbnail']\n",
    "    df_clean = df_clean.drop(columns=columns_to_drop)\n",
    "\n",
    "    # --- 3. Correct data types for numeric columns ---\n",
    "    # Using .astype('int') handles both float-to-int conversion and scientific notation.\n",
    "    for col in ['view_count', 'like_count', 'comment_count']:\n",
    "        df_clean[col] = df_clean[col].astype('int')\n",
    "\n",
    "    # --- 4. Feature Engineering from 'published_date' ---\n",
    "    # Convert to datetime objects first. `errors='coerce'` will turn any unparseable dates into NaT (Not a Time).\n",
    "    df_clean['published_date'] = pd.to_datetime(df_clean['published_date'], errors='coerce')\n",
    "    # Extract useful features.\n",
    "    df_clean['publish_day_of_week'] = df_clean['published_date'].dt.dayofweek # Monday=0, Sunday=6\n",
    "    df_clean['publish_hour'] = df_clean['published_date'].dt.hour\n",
    "    \n",
    "    # --- 5. Feature Engineering from 'duration' (ISO 8601 format) ---\n",
    "    def parse_duration(duration_str):\n",
    "        # Regular expression to find numbers associated with H, M, S\n",
    "        match = re.match(r'PT(?:(\\d+)H)?(?:(\\d+)M)?(?:(\\d+)S)?', duration_str)\n",
    "        if not match:\n",
    "            return 0\n",
    "        \n",
    "        hours = int(match.group(1)) if match.group(1) else 0\n",
    "        minutes = int(match.group(2)) if match.group(2) else 0\n",
    "        seconds = int(match.group(3)) if match.group(3) else 0\n",
    "        \n",
    "        return hours * 3600 + minutes * 60 + seconds\n",
    "\n",
    "    df_clean['duration_seconds'] = df_clean['duration'].apply(parse_duration)\n",
    "\n",
    "    # --- 6. Feature Engineering from 'tags' ---\n",
    "    # The 'tags' are a string representation of a list. We can safely evaluate it.\n",
    "    # We will get the number of tags. A high number of tags could indicate effort.\n",
    "    # We use a lambda with a try-except block to handle potential malformed strings gracefully.\n",
    "    def count_tags(tags_str):\n",
    "        try:\n",
    "            # Using ast.literal_eval is safer than eval() for converting string lists\n",
    "            import ast\n",
    "            tags_list = ast.literal_eval(tags_str)\n",
    "            return len(tags_list)\n",
    "        except (ValueError, SyntaxError):\n",
    "            return 0 # Return 0 if the string is not a valid list format\n",
    "\n",
    "    df_clean['tag_count'] = df_clean['tags'].apply(count_tags)\n",
    "    \n",
    "    # --- 7. Final Cleanup ---\n",
    "    # Drop the original columns that we've now replaced with engineered features.\n",
    "    df_clean = df_clean.drop(columns=['published_date', 'duration', 'tags'])\n",
    "\n",
    "    return df_clean\n",
    "\n",
    "# --- Apply the function and inspect the result ---\n",
    "df_processed = clean_and_feature_engineer(df)\n",
    "\n",
    "print(\"--- Processed DataFrame Info ---\")\n",
    "df_processed.info()\n",
    "\n",
    "print(\"\\n--- First 5 Rows of Processed DataFrame (Markdown) ---\")\n",
    "print(df_processed.head().to_markdown())"
   ]
  },
  {
   "cell_type": "code",
   "execution_count": 5,
   "id": "f98827b8",
   "metadata": {},
   "outputs": [],
   "source": [
    "# --- 8. Define Features (X) and Target (y) ---\n",
    "# We are predicting 'view_count'.\n",
    "# 'title' is dropped for this simple model, but could be used with NLP techniques.\n",
    "X = df_processed.drop(columns=['view_count', 'title'])\n",
    "y = df_processed['view_count']\n",
    "\n",
    "# Identify which columns are categorical and which are numerical\n",
    "categorical_features = ['channel_title', 'category_id'] # Note: category_id is treated as categorical\n",
    "numerical_features = ['like_count', 'comment_count', 'publish_day_of_week', 'publish_hour', 'duration_seconds', 'tag_count']"
   ]
  },
  {
   "cell_type": "code",
   "execution_count": 6,
   "id": "e81a756f",
   "metadata": {},
   "outputs": [],
   "source": [
    "# --- 9. Create a Preprocessing and Modeling Pipeline ---\n",
    "\n",
    "# Create a preprocessor object using ColumnTransformer.\n",
    "# This applies different transformations to different columns.\n",
    "preprocessor = ColumnTransformer(\n",
    "    transformers=[\n",
    "        ('num', StandardScaler(), numerical_features),\n",
    "        ('cat', OneHotEncoder(handle_unknown='ignore'), categorical_features)\n",
    "    ],\n",
    "    remainder='passthrough' # Keep other columns (if any)\n",
    ")\n",
    "\n",
    "# Define the model we want to use. A RandomForest is a good, powerful baseline.\n",
    "model = RandomForestRegressor(n_estimators=100, random_state=42, n_jobs=-1)\n",
    "\n",
    "# Create the full pipeline by chaining the preprocessor and the model.\n",
    "# This ensures that the same steps are applied to training and prediction data.\n",
    "pipeline = Pipeline(steps=[\n",
    "    ('preprocessor', preprocessor),\n",
    "    ('regressor', model)\n",
    "])"
   ]
  },
  {
   "cell_type": "code",
   "execution_count": 7,
   "id": "9b73b566",
   "metadata": {},
   "outputs": [
    {
     "name": "stdout",
     "output_type": "stream",
     "text": [
      "Training on 480 samples, testing on 120 samples.\n"
     ]
    }
   ],
   "source": [
    "# --- 10. Split Data into Training and Testing Sets ---\n",
    "# We will train the model on 80% of the data and test its performance on the unseen 20%.\n",
    "X_train, X_test, y_train, y_test = train_test_split(X, y, test_size=0.2, random_state=42)\n",
    "\n",
    "print(f\"Training on {len(X_train)} samples, testing on {len(X_test)} samples.\")"
   ]
  },
  {
   "cell_type": "code",
   "execution_count": 8,
   "id": "a6d889d5",
   "metadata": {},
   "outputs": [
    {
     "name": "stdout",
     "output_type": "stream",
     "text": [
      "\n",
      "--- Training the model... ---\n",
      "Model training complete.\n"
     ]
    }
   ],
   "source": [
    "# --- 11. Train the Model ---\n",
    "print(\"\\n--- Training the model... ---\")\n",
    "pipeline.fit(X_train, y_train)\n",
    "print(\"Model training complete.\")"
   ]
  },
  {
   "cell_type": "code",
   "execution_count": 9,
   "id": "c546f802",
   "metadata": {},
   "outputs": [
    {
     "name": "stdout",
     "output_type": "stream",
     "text": [
      "\n",
      "--- Evaluating the model on the test set... ---\n"
     ]
    }
   ],
   "source": [
    "# --- 12. Make Predictions on the Test Set ---\n",
    "print(\"\\n--- Evaluating the model on the test set... ---\")\n",
    "predictions = pipeline.predict(X_test)"
   ]
  },
  {
   "cell_type": "code",
   "execution_count": 10,
   "id": "97789b3b",
   "metadata": {},
   "outputs": [
    {
     "name": "stdout",
     "output_type": "stream",
     "text": [
      "\n",
      "--- Model Performance Metrics ---\n",
      "R-squared (R²): 0.63\n",
      "Mean Absolute Error (MAE): 5,192,262 views\n",
      "Root Mean Squared Error (RMSE): 18,971,531 views\n"
     ]
    }
   ],
   "source": [
    "# --- 13. Calculate and Print Quantifiable Metrics ---\n",
    "r2 = r2_score(y_test, predictions)\n",
    "mae = mean_absolute_error(y_test, predictions)\n",
    "rmse = np.sqrt(mean_squared_error(y_test, predictions))\n",
    "\n",
    "print(\"\\n--- Model Performance Metrics ---\")\n",
    "print(f\"R-squared (R²): {r2:.2f}\")\n",
    "print(f\"Mean Absolute Error (MAE): {mae:,.0f} views\")\n",
    "print(f\"Root Mean Squared Error (RMSE): {rmse:,.0f} views\")"
   ]
  },
  {
   "cell_type": "code",
   "execution_count": null,
   "id": "c685ab4b",
   "metadata": {},
   "outputs": [],
   "source": []
  },
  {
   "cell_type": "code",
   "execution_count": null,
   "id": "1282e5a3",
   "metadata": {},
   "outputs": [],
   "source": []
  },
  {
   "cell_type": "code",
   "execution_count": null,
   "id": "dde10610",
   "metadata": {},
   "outputs": [],
   "source": []
  },
  {
   "cell_type": "code",
   "execution_count": null,
   "id": "7e85185b",
   "metadata": {},
   "outputs": [],
   "source": []
  },
  {
   "cell_type": "code",
   "execution_count": null,
   "id": "9ef85179",
   "metadata": {},
   "outputs": [],
   "source": []
  },
  {
   "cell_type": "code",
   "execution_count": null,
   "id": "7bc9fa6b",
   "metadata": {},
   "outputs": [],
   "source": []
  },
  {
   "cell_type": "code",
   "execution_count": null,
   "id": "124a8afe",
   "metadata": {},
   "outputs": [],
   "source": []
  },
  {
   "cell_type": "code",
   "execution_count": null,
   "id": "783d3c8e",
   "metadata": {},
   "outputs": [],
   "source": []
  },
  {
   "cell_type": "code",
   "execution_count": null,
   "id": "c611d6ca",
   "metadata": {},
   "outputs": [],
   "source": []
  },
  {
   "cell_type": "code",
   "execution_count": null,
   "id": "fb515936",
   "metadata": {},
   "outputs": [],
   "source": []
  },
  {
   "cell_type": "code",
   "execution_count": null,
   "id": "68a5d072",
   "metadata": {},
   "outputs": [],
   "source": []
  },
  {
   "cell_type": "code",
   "execution_count": null,
   "id": "73a76d56",
   "metadata": {},
   "outputs": [],
   "source": []
  }
 ],
 "metadata": {
  "kernelspec": {
   "display_name": "aws_yt_popularity",
   "language": "python",
   "name": "python3"
  },
  "language_info": {
   "codemirror_mode": {
    "name": "ipython",
    "version": 3
   },
   "file_extension": ".py",
   "mimetype": "text/x-python",
   "name": "python",
   "nbconvert_exporter": "python",
   "pygments_lexer": "ipython3",
   "version": "3.10.18"
  }
 },
 "nbformat": 4,
 "nbformat_minor": 5
}
